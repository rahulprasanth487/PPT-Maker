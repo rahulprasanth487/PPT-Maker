{
 "cells": [
  {
   "cell_type": "code",
   "execution_count": 1,
   "id": "004ef378-8691-4593-8a11-a2358d5ee316",
   "metadata": {},
   "outputs": [
    {
     "name": "stdout",
     "output_type": "stream",
     "text": [
      "Requirement already satisfied: python-pptx in h:\\python\\python system files\\lib\\site-packages (1.0.2)\n",
      "Requirement already satisfied: Pillow>=3.3.2 in h:\\python\\python system files\\lib\\site-packages (from python-pptx) (10.0.0)\n",
      "Requirement already satisfied: XlsxWriter>=0.5.7 in h:\\python\\python system files\\lib\\site-packages (from python-pptx) (3.2.0)\n",
      "Requirement already satisfied: lxml>=3.1.0 in h:\\python\\python system files\\lib\\site-packages (from python-pptx) (5.3.0)\n",
      "Requirement already satisfied: typing-extensions>=4.9.0 in h:\\python\\python system files\\lib\\site-packages (from python-pptx) (4.12.2)\n"
     ]
    },
    {
     "name": "stderr",
     "output_type": "stream",
     "text": [
      "\n",
      "[notice] A new release of pip is available: 23.3.1 -> 24.2\n",
      "[notice] To update, run: python.exe -m pip install --upgrade pip\n"
     ]
    }
   ],
   "source": [
    "!pip install python-pptx"
   ]
  },
  {
   "cell_type": "code",
   "execution_count": null,
   "id": "deacc28f-6389-4e09-83ba-8d6152203e7a",
   "metadata": {},
   "outputs": [],
   "source": []
  }
 ],
 "metadata": {
  "kernelspec": {
   "display_name": "Python 3 (ipykernel)",
   "language": "python",
   "name": "python3"
  },
  "language_info": {
   "codemirror_mode": {
    "name": "ipython",
    "version": 3
   },
   "file_extension": ".py",
   "mimetype": "text/x-python",
   "name": "python",
   "nbconvert_exporter": "python",
   "pygments_lexer": "ipython3",
   "version": "3.11.4"
  }
 },
 "nbformat": 4,
 "nbformat_minor": 5
}
